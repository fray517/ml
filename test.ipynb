{
 "cells": [
  {
   "cell_type": "code",
   "execution_count": 1,
   "metadata": {},
   "outputs": [
    {
     "name": "stdout",
     "output_type": "stream",
     "text": [
      "Number of instuments in the terminal: 627\n",
      "Data for EURUSD not available (attenpt 1)\n",
      "Number of instuments in the terminal: 627\n",
      "Data for EURUSD not available (attenpt 2)\n",
      "Number of instuments in the terminal: 627\n",
      "Data for EURUSD not available (attenpt 3)\n",
      "Number of instuments in the terminal: 627\n",
      "Data for EURUSD not available (attenpt 4)\n",
      "Number of instuments in the terminal: 627\n",
      "Data for EURUSD not available (attenpt 5)\n",
      "Number of instuments in the terminal: 627\n",
      "Data for EURUSD not available (attenpt 6)\n",
      "Number of instuments in the terminal: 627\n",
      "Data for EURUSD not available (attenpt 7)\n",
      "Number of instuments in the terminal: 627\n",
      "Data for EURUSD not available (attenpt 8)\n",
      "Number of instuments in the terminal: 627\n",
      "Data for EURUSD not available (attenpt 9)\n"
     ]
    },
    {
     "ename": "KeyboardInterrupt",
     "evalue": "",
     "output_type": "error",
     "traceback": [
      "\u001b[1;31m---------------------------------------------------------------------------\u001b[0m",
      "\u001b[1;31mKeyboardInterrupt\u001b[0m                         Traceback (most recent call last)",
      "Input \u001b[1;32mIn [1]\u001b[0m, in \u001b[0;36m<cell line: 55>\u001b[1;34m()\u001b[0m\n\u001b[0;32m     49\u001b[0m             raw_data\u001b[38;5;241m.\u001b[39mset_index(\u001b[38;5;124m'\u001b[39m\u001b[38;5;124mtime\u001b[39m\u001b[38;5;124m'\u001b[39m, inplace\u001b[38;5;241m=\u001b[39m\u001b[38;5;28;01mTrue\u001b[39;00m)\n\u001b[0;32m     50\u001b[0m             \u001b[38;5;28;01mbreak\u001b[39;00m\n\u001b[1;32m---> 55\u001b[0m \u001b[43mretrieve_data\u001b[49m\u001b[43m(\u001b[49m\u001b[43msymbol\u001b[49m\u001b[43m)\u001b[49m\n",
      "Input \u001b[1;32mIn [1]\u001b[0m, in \u001b[0;36mretrieve_data\u001b[1;34m(symbol, retries_limit)\u001b[0m\n\u001b[0;32m     42\u001b[0m     \u001b[38;5;28mprint\u001b[39m(\u001b[38;5;124mf\u001b[39m\u001b[38;5;124m\"\u001b[39m\u001b[38;5;124mData for \u001b[39m\u001b[38;5;132;01m{\u001b[39;00msymbol\u001b[38;5;132;01m}\u001b[39;00m\u001b[38;5;124m not available (attenpt \u001b[39m\u001b[38;5;132;01m{\u001b[39;00mattempt \u001b[38;5;241m+\u001b[39m \u001b[38;5;241m1\u001b[39m\u001b[38;5;132;01m}\u001b[39;00m\u001b[38;5;124m)\u001b[39m\u001b[38;5;124m\"\u001b[39m)\n\u001b[0;32m     43\u001b[0m     attempt \u001b[38;5;241m+\u001b[39m\u001b[38;5;241m=\u001b[39m \u001b[38;5;241m1\u001b[39m\n\u001b[1;32m---> 44\u001b[0m     \u001b[43mtime\u001b[49m\u001b[38;5;241;43m.\u001b[39;49m\u001b[43msleep\u001b[49m\u001b[43m(\u001b[49m\u001b[38;5;241;43m1\u001b[39;49m\u001b[43m)\u001b[49m\n\u001b[0;32m     45\u001b[0m \u001b[38;5;28;01melse\u001b[39;00m:\n\u001b[0;32m     46\u001b[0m     raw_data \u001b[38;5;241m=\u001b[39m pd\u001b[38;5;241m.\u001b[39mDataFrame(rates[:\u001b[38;5;241m-\u001b[39m\u001b[38;5;241m1\u001b[39m], columns\u001b[38;5;241m=\u001b[39m[\u001b[38;5;124m'\u001b[39m\u001b[38;5;124mtime\u001b[39m\u001b[38;5;124m'\u001b[39m, \u001b[38;5;124m'\u001b[39m\u001b[38;5;124mopen\u001b[39m\u001b[38;5;124m'\u001b[39m, \u001b[38;5;124m'\u001b[39m\u001b[38;5;124mhigh\u001b[39m\u001b[38;5;124m'\u001b[39m, \u001b[38;5;124m'\u001b[39m\u001b[38;5;124mlow\u001b[39m\u001b[38;5;124m'\u001b[39m, \u001b[38;5;124m'\u001b[39m\u001b[38;5;124mclose\u001b[39m\u001b[38;5;124m'\u001b[39m,\n\u001b[0;32m     47\u001b[0m                                                  \u001b[38;5;124m'\u001b[39m\u001b[38;5;124mtick_volume\u001b[39m\u001b[38;5;124m'\u001b[39m])\n",
      "\u001b[1;31mKeyboardInterrupt\u001b[0m: "
     ]
    }
   ],
   "source": [
    "import numpy as np\n",
    "import pandas as pd\n",
    "import random\n",
    "from datetime import datetime\n",
    "import MetaTrader5 as mt5\n",
    "import time\n",
    "from tqdm import tqdm\n",
    "from sklearn.model_selection import train_test_split\n",
    "import matplotlib.pyplot as plt\n",
    "from sklearn.utils import class_weight\n",
    "from imblearn.under_sampling import RandomUnderSampler\n",
    "\n",
    "# Globals\n",
    "MARKUP = 0.00001\n",
    "BACKWARD = datetime(2000, 1, 1)\n",
    "FORWARD = datetime(2010, 1, 1)\n",
    "EXAMWARD = datetime(2024, 1, 1)\n",
    "MAX_OPEN_TRADES = 3\n",
    "symbol = \"EURUSD\"\n",
    "\n",
    "def retrieve_data(symbol, retries_limit=300):\n",
    "    terminal_path = \"C:\\\\Program Files\\\\Tickmill MT5 Terminal\\\\terminal64.exe\"\n",
    "    \n",
    "    attempt = 0\n",
    "    raw_data = None\n",
    "    \n",
    "    while attempt < retries_limit:\n",
    "        if not mt5.initialize(path=terminal_path):\n",
    "            print(\"Metatrader initialization failed\")\n",
    "            return None\n",
    "        \n",
    "        instrument_count = mt5.symbols_total()\n",
    "        if instrument_count > 0:\n",
    "            print(f\"Number of instuments in the terminal: {instrument_count}\")\n",
    "        else:\n",
    "            print(\"No instuments in the terminal\")\n",
    "        \n",
    "        rates = mt5.copy_rates_range(symbol, mt5.TIMEFRAME_H1, BACKWARD, EXAMWARD)\n",
    "        mt5.shutdown()\n",
    "        \n",
    "        if rates is None or len(rates) == 0:\n",
    "            print(f\"Data for {symbol} not available (attenpt {attempt + 1})\")\n",
    "            attempt += 1\n",
    "            time.sleep(1)\n",
    "        else:\n",
    "            raw_data = pd.DataFrame(rates[:-1], columns=['time', 'open', 'high', 'low', 'close',\n",
    "                                                         'tick_volume'])\n",
    "            raw_data['time'] = pd.to_datetime(raw_data['time'], unit='s')\n",
    "            raw_data.set_index('time', inplace=True)\n",
    "            break\n",
    "\n",
    "\n",
    "\n",
    "\n",
    "retrieve_data(symbol)\n"
   ]
  },
  {
   "cell_type": "code",
   "execution_count": 2,
   "metadata": {},
   "outputs": [
    {
     "name": "stdout",
     "output_type": "stream",
     "text": [
      "Requirement already satisfied: MetaTrader5 in c:\\users\\feden\\appdata\\roaming\\python\\python39\\site-packages (5.0.44)\n",
      "Requirement already satisfied: numpy>=1.7 in c:\\users\\feden\\anaconda3\\lib\\site-packages (from MetaTrader5) (1.23.5)\n"
     ]
    }
   ],
   "source": [
    "!pip install MetaTrader5"
   ]
  },
  {
   "cell_type": "code",
   "execution_count": 3,
   "metadata": {},
   "outputs": [],
   "source": [
    "import MetaTrader5 as mt5"
   ]
  },
  {
   "cell_type": "code",
   "execution_count": null,
   "metadata": {},
   "outputs": [],
   "source": [
    "mt5.ini"
   ]
  }
 ],
 "metadata": {
  "kernelspec": {
   "display_name": "Python 3 (ipykernel)",
   "language": "python",
   "name": "python3"
  },
  "language_info": {
   "codemirror_mode": {
    "name": "ipython",
    "version": 3
   },
   "file_extension": ".py",
   "mimetype": "text/x-python",
   "name": "python",
   "nbconvert_exporter": "python",
   "pygments_lexer": "ipython3",
   "version": "3.9.12"
  }
 },
 "nbformat": 4,
 "nbformat_minor": 2
}
